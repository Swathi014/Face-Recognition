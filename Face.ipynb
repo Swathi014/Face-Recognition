{
  "cells": [
    {
      "cell_type": "markdown",
      "metadata": {
        "id": "view-in-github",
        "colab_type": "text"
      },
      "source": [
        "<a href=\"https://colab.research.google.com/github/Swathi014/Face-Recognition/blob/main/Face.ipynb\" target=\"_parent\"><img src=\"https://colab.research.google.com/assets/colab-badge.svg\" alt=\"Open In Colab\"/></a>"
      ]
    },
    {
      "cell_type": "code",
      "execution_count": null,
      "id": "9ebeb350-9bcd-4876-9922-7aad812c8a56",
      "metadata": {
        "id": "9ebeb350-9bcd-4876-9922-7aad812c8a56"
      },
      "outputs": [],
      "source": [
        "import cv2\n",
        "facecascade = cv2.CascadeClassifier('haarcascade_frontalface_default.xml')"
      ]
    },
    {
      "cell_type": "code",
      "execution_count": null,
      "id": "2b275243-a971-4ce8-b3ee-3ffe37b7aa1a",
      "metadata": {
        "id": "2b275243-a971-4ce8-b3ee-3ffe37b7aa1a"
      },
      "outputs": [],
      "source": [
        "image = cv2.imread('family.jpg')\n",
        "gray = cv2.cvtColor(image,cv2.COLOR_BGR2GRAY)"
      ]
    },
    {
      "cell_type": "code",
      "execution_count": null,
      "id": "061f2245-3821-47da-b8d5-3009bae01824",
      "metadata": {
        "id": "061f2245-3821-47da-b8d5-3009bae01824"
      },
      "outputs": [],
      "source": [
        "faces = facecascade.detectMultiScale(gray,scaleFactor = 1.05,minNeighbors=7,minSize = (30,30))"
      ]
    },
    {
      "cell_type": "markdown",
      "id": "345fd1ec-b99b-4045-9805-2f017e1cb087",
      "metadata": {
        "id": "345fd1ec-b99b-4045-9805-2f017e1cb087"
      },
      "source": [
        "#scaleFactor : Parameter specify how much the image size is reduced.\n",
        "#minNeighbors: How many neighbor each candidate rectangle show\n",
        "#minSize : min possible object size,objects smaller than that are ignored."
      ]
    },
    {
      "cell_type": "code",
      "execution_count": null,
      "id": "7bbd8a6a-8cf8-4196-bb2b-35a8922aa0a7",
      "metadata": {
        "id": "7bbd8a6a-8cf8-4196-bb2b-35a8922aa0a7",
        "outputId": "c5d47593-4c70-43ec-84dd-695cfc8f3b43"
      },
      "outputs": [
        {
          "data": {
            "text/plain": [
              "array([[439,  35, 128, 128],\n",
              "       [748,  39, 141, 141],\n",
              "       [121, 205,  66,  66],\n",
              "       [218,  67, 121, 121],\n",
              "       [396, 216, 125, 125],\n",
              "       [667,  75,  98,  98]])"
            ]
          },
          "execution_count": 5,
          "metadata": {},
          "output_type": "execute_result"
        }
      ],
      "source": [
        "faces"
      ]
    },
    {
      "cell_type": "code",
      "execution_count": null,
      "id": "726e41c7-1a1c-4b90-aaf1-1ccf0cd7a823",
      "metadata": {
        "id": "726e41c7-1a1c-4b90-aaf1-1ccf0cd7a823",
        "outputId": "edec2aaa-0277-400a-8c4f-973d43d9d863"
      },
      "outputs": [
        {
          "name": "stdout",
          "output_type": "stream",
          "text": [
            "Found 6 faces \n",
            "[[439  35 128 128]\n",
            " [748  39 141 141]\n",
            " [121 205  66  66]\n",
            " [218  67 121 121]\n",
            " [396 216 125 125]\n",
            " [667  75  98  98]]\n"
          ]
        }
      ],
      "source": [
        "print(\"Found {0} faces \".format(len(faces)))\n",
        "print(faces)\n",
        "\n",
        "for (x,y,w,h) in faces:\n",
        "    cv2.rectangle(image,(x,y),(x+w,x+h),(0,0,225),5)"
      ]
    },
    {
      "cell_type": "code",
      "execution_count": null,
      "id": "e13f4623-1e1e-434b-b097-d51d44212d7a",
      "metadata": {
        "id": "e13f4623-1e1e-434b-b097-d51d44212d7a"
      },
      "outputs": [],
      "source": [
        "cv2.imshow('faces',image)\n",
        "cv2.waitKey(0)\n",
        "cv2.destroyAllWindows()"
      ]
    },
    {
      "cell_type": "code",
      "execution_count": null,
      "id": "06272ffe-7064-49cf-8b31-1764fd67fc13",
      "metadata": {
        "id": "06272ffe-7064-49cf-8b31-1764fd67fc13"
      },
      "outputs": [],
      "source": []
    }
  ],
  "metadata": {
    "kernelspec": {
      "display_name": "Python 3 (ipykernel)",
      "language": "python",
      "name": "python3"
    },
    "language_info": {
      "codemirror_mode": {
        "name": "ipython",
        "version": 3
      },
      "file_extension": ".py",
      "mimetype": "text/x-python",
      "name": "python",
      "nbconvert_exporter": "python",
      "pygments_lexer": "ipython3",
      "version": "3.11.7"
    },
    "colab": {
      "provenance": [],
      "include_colab_link": true
    }
  },
  "nbformat": 4,
  "nbformat_minor": 5
}