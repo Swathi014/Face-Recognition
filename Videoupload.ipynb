{
  "cells": [
    {
      "cell_type": "markdown",
      "metadata": {
        "id": "view-in-github",
        "colab_type": "text"
      },
      "source": [
        "<a href=\"https://colab.research.google.com/github/Swathi014/Face-Recognition/blob/main/Videoupload.ipynb\" target=\"_parent\"><img src=\"https://colab.research.google.com/assets/colab-badge.svg\" alt=\"Open In Colab\"/></a>"
      ]
    },
    {
      "cell_type": "code",
      "execution_count": null,
      "id": "399e6ac8-83e9-4e87-841d-7e20bc5d05f6",
      "metadata": {
        "id": "399e6ac8-83e9-4e87-841d-7e20bc5d05f6"
      },
      "outputs": [],
      "source": [
        "import cv2"
      ]
    },
    {
      "cell_type": "code",
      "execution_count": null,
      "id": "86c184c9-d8af-4d9c-819a-234d495c37c1",
      "metadata": {
        "id": "86c184c9-d8af-4d9c-819a-234d495c37c1"
      },
      "outputs": [],
      "source": [
        "face_clsfr = cv2.CascadeClassifier('haarcascade_frontalface_default.xml')"
      ]
    },
    {
      "cell_type": "code",
      "execution_count": null,
      "id": "fe153f20-c008-4690-aea8-e897d6d5d2f2",
      "metadata": {
        "id": "fe153f20-c008-4690-aea8-e897d6d5d2f2"
      },
      "outputs": [],
      "source": [
        "source = cv2.VideoCapture('personvideo.mp4')"
      ]
    },
    {
      "cell_type": "code",
      "execution_count": null,
      "id": "41bbf4ef-b377-4db7-bfa9-3be961513583",
      "metadata": {
        "id": "41bbf4ef-b377-4db7-bfa9-3be961513583"
      },
      "outputs": [],
      "source": [
        "while(True):\n",
        "    ret,img = source.read()\n",
        "    gray = cv2.cvtColor(img,cv2.COLOR_BGR2GRAY)\n",
        "    faces = face_clsfr.detectMultiScale(gray,1.3,5)\n",
        "\n",
        "    for (x,y,w,h) in faces:\n",
        "        cv2.rectangle(img,(x,y),(x+w,x+h),(0,0,225),5)\n",
        "\n",
        "    cv2.imshow('face Detection',img)\n",
        "    key = cv2.waitKey(1)\n",
        "\n",
        "    if(key == 27):\n",
        "        break\n",
        "\n",
        "cv2.destroyAllWindows()\n",
        "source.release()\n",
        ""
      ]
    },
    {
      "cell_type": "code",
      "execution_count": null,
      "id": "4a356e7d-f5ee-4e7f-8b00-e88e9571323d",
      "metadata": {
        "id": "4a356e7d-f5ee-4e7f-8b00-e88e9571323d"
      },
      "outputs": [],
      "source": []
    }
  ],
  "metadata": {
    "kernelspec": {
      "display_name": "Python 3 (ipykernel)",
      "language": "python",
      "name": "python3"
    },
    "language_info": {
      "codemirror_mode": {
        "name": "ipython",
        "version": 3
      },
      "file_extension": ".py",
      "mimetype": "text/x-python",
      "name": "python",
      "nbconvert_exporter": "python",
      "pygments_lexer": "ipython3",
      "version": "3.11.7"
    },
    "colab": {
      "provenance": [],
      "include_colab_link": true
    }
  },
  "nbformat": 4,
  "nbformat_minor": 5
}